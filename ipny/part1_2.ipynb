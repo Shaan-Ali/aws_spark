{
 "cells": [
  {
   "cell_type": "code",
   "execution_count": 1,
   "metadata": {},
   "outputs": [],
   "source": [
    "import findspark\n",
    "findspark.init()\n",
    "from pyspark import SparkConf, SparkContext"
   ]
  },
  {
   "cell_type": "code",
   "execution_count": 2,
   "metadata": {},
   "outputs": [],
   "source": [
    "conf = SparkConf().setMaster(\"local\").setAppName(\"FriendsByAge\")\n",
    "sc = SparkContext(conf = conf)"
   ]
  },
  {
   "cell_type": "code",
   "execution_count": 3,
   "metadata": {},
   "outputs": [],
   "source": [
    "def parseLine(line):\n",
    "    fields = line.split(',')\n",
    "    arrDelay = float(fields[6])\n",
    "    carrier = fields[9]\n",
    "    return (carrier, arrDelay)"
   ]
  },
  {
   "cell_type": "code",
   "execution_count": 12,
   "metadata": {},
   "outputs": [
    {
     "name": "stdout",
     "output_type": "stream",
     "text": [
      "('WN', 3.9254142263603145)\n",
      "('HP', 5.863343528339949)\n",
      "('PS', 6.111657573196035)\n",
      "('AA', 6.253010694285768)\n",
      "('AL', 8.807571913407362)\n",
      "('AS', 9.05585177286057)\n",
      "('PA', 10.380676985881953)\n",
      "('UA', 11.333427830876397)\n",
      "('DL', 13.210552642472747)\n",
      "('TW', 14.029736876327538)\n"
     ]
    }
   ],
   "source": [
    "lines = sc.textFile(\"file:///SparkCourse/capstone/On_Time_On_Time_Performance_1988_1.csv\")\n",
    "rdd = lines.map(parseLine)\n",
    "\n",
    "# totalsByAge = rdd.mapValues(lambda x: (x, 1)).reduceByKey(lambda x, y: (x[0] + y[0], x[1] + y[1]))\n",
    "arrDelayTotalByCarrier = rdd.mapValues(lambda x: (x, 1)).reduceByKey(lambda x, y: (x[0] + y[0], x[1] + y[1]))\n",
    "\n",
    "# averagesByAge = totalsByAge.mapValues(lambda x: x[0] / x[1])\n",
    "avgDelay = arrDelayTotalByCarrier.mapValues(lambda x: x[0] / x[1])\n",
    "results = avgDelay.sortBy(lambda a: a[1]).take(10)\n",
    "# results = results.take(10)\n",
    "# results = sorted(avgDelay.sortBy(lambda a: a[1]).collect())\n",
    "for result in results:\n",
    "    print(result)"
   ]
  },
  {
   "cell_type": "code",
   "execution_count": null,
   "metadata": {},
   "outputs": [],
   "source": []
  }
 ],
 "metadata": {
  "kernelspec": {
   "display_name": "Python 3",
   "language": "python",
   "name": "python3"
  },
  "language_info": {
   "codemirror_mode": {
    "name": "ipython",
    "version": 3
   },
   "file_extension": ".py",
   "mimetype": "text/x-python",
   "name": "python",
   "nbconvert_exporter": "python",
   "pygments_lexer": "ipython3",
   "version": "3.7.3"
  }
 },
 "nbformat": 4,
 "nbformat_minor": 2
}
